{
  "nbformat": 4,
  "nbformat_minor": 0,
  "metadata": {
    "colab": {
      "name": "survival percentage of Covid 19.ipynb",
      "provenance": [],
      "collapsed_sections": []
    },
    "kernelspec": {
      "name": "python3",
      "display_name": "Python 3"
    },
    "accelerator": "GPU"
  },
  "cells": [
    {
      "cell_type": "code",
      "metadata": {
        "id": "3orK-dUHNK0L",
        "colab_type": "code",
        "colab": {}
      },
      "source": [
        "import random\n",
        "import math"
      ],
      "execution_count": 0,
      "outputs": []
    },
    {
      "cell_type": "code",
      "metadata": {
        "id": "zcDdHYLmNWme",
        "colab_type": "code",
        "outputId": "2e30f615-4234-4b57-c510-e1324d302c2e",
        "colab": {
          "base_uri": "https://localhost:8080/"
        }
      },
      "source": [
        "x_i = []\n",
        "y_o = []\n",
        "param= len(x_i[0])"
      ],
      "execution_count": 0,
      "outputs": [
        {
          "output_type": "error",
          "ename": "IndexError",
          "evalue": "ignored",
          "traceback": [
            "\u001b[0;31m---------------------------------------------------------------------------\u001b[0m",
            "\u001b[0;31mIndexError\u001b[0m                                Traceback (most recent call last)",
            "\u001b[0;32m<ipython-input-2-39fbf2b471ea>\u001b[0m in \u001b[0;36m<module>\u001b[0;34m()\u001b[0m\n\u001b[1;32m      1\u001b[0m \u001b[0mx_i\u001b[0m \u001b[0;34m=\u001b[0m \u001b[0;34m[\u001b[0m\u001b[0;34m]\u001b[0m\u001b[0;34m\u001b[0m\u001b[0;34m\u001b[0m\u001b[0m\n\u001b[1;32m      2\u001b[0m \u001b[0my_o\u001b[0m \u001b[0;34m=\u001b[0m \u001b[0;34m[\u001b[0m\u001b[0;34m]\u001b[0m\u001b[0;34m\u001b[0m\u001b[0;34m\u001b[0m\u001b[0m\n\u001b[0;32m----> 3\u001b[0;31m \u001b[0mparam\u001b[0m\u001b[0;34m=\u001b[0m \u001b[0mlen\u001b[0m\u001b[0;34m(\u001b[0m\u001b[0mx_i\u001b[0m\u001b[0;34m[\u001b[0m\u001b[0;36m0\u001b[0m\u001b[0;34m]\u001b[0m\u001b[0;34m)\u001b[0m\u001b[0;34m\u001b[0m\u001b[0;34m\u001b[0m\u001b[0m\n\u001b[0m",
            "\u001b[0;31mIndexError\u001b[0m: list index out of range"
          ]
        }
      ]
    },
    {
      "cell_type": "code",
      "metadata": {
        "id": "j8_SqqtiuWtr",
        "colab_type": "code",
        "colab": {}
      },
      "source": [
        "from random import randrange\n",
        "from random import random\n",
        "from math import exp"
      ],
      "execution_count": 0,
      "outputs": []
    },
    {
      "cell_type": "code",
      "metadata": {
        "id": "NBLS7y_2Nczd",
        "colab_type": "code",
        "colab": {}
      },
      "source": [
        "def network(n_hidden):\n",
        "  network=[]\n",
        "  firstlayer=[]\n",
        "  for u in range(0,param):\n",
        "    hidden=[random() for i in range(n_hidden)]\n",
        "    firstlayer.append(hidden)\n",
        "  final=[random() for i in range(n_hidden)]\n",
        "  network.append(final)\n",
        "  bias = []\n",
        "  b1 = [random() for i in range(n_hidden)]\n",
        "  b2 = random() \n",
        "  bias.append(b1)\n",
        "  bias.append(b2)\n",
        "  return network, bias"
      ],
      "execution_count": 0,
      "outputs": []
    },
    {
      "cell_type": "code",
      "metadata": {
        "id": "AfJ19oG8OS6l",
        "colab_type": "code",
        "colab": {}
      },
      "source": [
        "def sigmoid(activation):\n",
        "\treturn 1.0 / (1.0 + exp(-activation))"
      ],
      "execution_count": 0,
      "outputs": []
    },
    {
      "cell_type": "code",
      "metadata": {
        "id": "GNzKa_FfOvZR",
        "colab_type": "code",
        "colab": {}
      },
      "source": [
        "def forward(network,bias,x):\n",
        "  first = firstlayer\n",
        "  second = network\n",
        "  b1 = bias[0]\n",
        "  b2 = bias[1]\n",
        "  zo = []\n",
        "  zi = []\n",
        "  for i in range(len(first)):\n",
        "    for j in range(len(first[i]))\n",
        "      z = b1[i] + first[i][j]*x[j]\n",
        "      zi.append(z)\n",
        "      z = sigmoid(z)\n",
        "      zo.append(z)\n",
        "  y = b2\n",
        "  for i in range(len(second)):\n",
        "    y = y + zo[i]*second[i]\n",
        "  return y,zo,zi\n"
      ],
      "execution_count": 0,
      "outputs": []
    },
    {
      "cell_type": "code",
      "metadata": {
        "id": "PEbu-wfvfAVD",
        "colab_type": "code",
        "colab": {}
      },
      "source": [
        "def derivative(output):\n",
        "\treturn output * (1.0 - output)"
      ],
      "execution_count": 0,
      "outputs": []
    },
    {
      "cell_type": "code",
      "metadata": {
        "id": "oNCFzRJYX_XV",
        "colab_type": "code",
        "colab": {}
      },
      "source": [
        "def backprop(network, bias, error,zo,zi,x,a,m):\n",
        "  dk = error\n",
        "  for i in range(len(network)):\n",
        "    network[i] = network[i] + m*a*dk*zo[i] #weight updation no activation at output\n",
        "  for i in range(len(firstlayer)):\n",
        "    for j in range(len(firstlayer[i])):\n",
        "      firstlayer[i][j] = firstlayer[i][j] + m*a*dk*network[i]*derivative(zo[i])*x[j] #weight updation.. activation is there\n",
        "  for i in range(len(bias[0])):\n",
        "    bias[0][i] = bias[0][i] + m*a*dk*network[1][i]*derivative(zo[i])\n",
        "  bias[1] = bias[1] + m*a*dk"
      ],
      "execution_count": 0,
      "outputs": []
    },
    {
      "cell_type": "code",
      "metadata": {
        "id": "jPBhsMjVYYWq",
        "colab_type": "code",
        "outputId": "653ce66d-1765-4dbb-e5c7-d465fd026007",
        "colab": {
          "base_uri": "https://localhost:8080/"
        }
      },
      "source": [
        "Network,bias = network(100)\n",
        "x_in = []\n",
        "y_out =[]"
      ],
      "execution_count": 0,
      "outputs": [
        {
          "output_type": "error",
          "ename": "NameError",
          "evalue": "ignored",
          "traceback": [
            "\u001b[0;31m---------------------------------------------------------------------------\u001b[0m",
            "\u001b[0;31mNameError\u001b[0m                                 Traceback (most recent call last)",
            "\u001b[0;32m<ipython-input-3-d11d315a714e>\u001b[0m in \u001b[0;36m<module>\u001b[0;34m()\u001b[0m\n\u001b[0;32m----> 1\u001b[0;31m \u001b[0mNetwork\u001b[0m\u001b[0;34m,\u001b[0m\u001b[0mbias\u001b[0m \u001b[0;34m=\u001b[0m \u001b[0mnetwork\u001b[0m\u001b[0;34m(\u001b[0m\u001b[0;36m100\u001b[0m\u001b[0;34m)\u001b[0m\u001b[0;34m\u001b[0m\u001b[0;34m\u001b[0m\u001b[0m\n\u001b[0m\u001b[1;32m      2\u001b[0m \u001b[0mx_in\u001b[0m \u001b[0;34m=\u001b[0m \u001b[0;34m[\u001b[0m\u001b[0;34m]\u001b[0m\u001b[0;34m\u001b[0m\u001b[0;34m\u001b[0m\u001b[0m\n\u001b[1;32m      3\u001b[0m \u001b[0my_out\u001b[0m \u001b[0;34m=\u001b[0m\u001b[0;34m[\u001b[0m\u001b[0;34m]\u001b[0m\u001b[0;34m\u001b[0m\u001b[0;34m\u001b[0m\u001b[0m\n",
            "\u001b[0;31mNameError\u001b[0m: name 'network' is not defined"
          ]
        }
      ]
    },
    {
      "cell_type": "code",
      "metadata": {
        "id": "3kHZTCNelQf0",
        "colab_type": "code",
        "outputId": "75e07e8b-9359-4ba3-c3c2-a94a1acf617d",
        "colab": {
          "base_uri": "https://localhost:8080/"
        }
      },
      "source": [
        "epochs = 1000\n",
        "a=0.01\n",
        "m=1\n",
        "for epoch in range(1,epochs+1):\n",
        "  for i in range(len(x_in)):\n",
        "    x = x_in[i]\n",
        "    y,zo,zi = forward(Network,bias, x)\n",
        "    y = y*(max(y_outFull)-min(y_outFull)) + min(y_outFull)\n",
        "    error = y_out[i] - y\n",
        "    backprop(Network,bias, error,zo,zi,x,a,m)"
      ],
      "execution_count": 0,
      "outputs": [
        {
          "output_type": "error",
          "ename": "NameError",
          "evalue": "ignored",
          "traceback": [
            "\u001b[0;31m---------------------------------------------------------------------------\u001b[0m",
            "\u001b[0;31mNameError\u001b[0m                                 Traceback (most recent call last)",
            "\u001b[0;32m<ipython-input-4-0f765aa8d4cc>\u001b[0m in \u001b[0;36m<module>\u001b[0;34m()\u001b[0m\n\u001b[1;32m      3\u001b[0m \u001b[0mm\u001b[0m\u001b[0;34m=\u001b[0m\u001b[0;36m1\u001b[0m\u001b[0;34m\u001b[0m\u001b[0;34m\u001b[0m\u001b[0m\n\u001b[1;32m      4\u001b[0m \u001b[0;32mfor\u001b[0m \u001b[0mepoch\u001b[0m \u001b[0;32min\u001b[0m \u001b[0mrange\u001b[0m\u001b[0;34m(\u001b[0m\u001b[0;36m1\u001b[0m\u001b[0;34m,\u001b[0m\u001b[0mepochs\u001b[0m\u001b[0;34m+\u001b[0m\u001b[0;36m1\u001b[0m\u001b[0;34m)\u001b[0m\u001b[0;34m:\u001b[0m\u001b[0;34m\u001b[0m\u001b[0;34m\u001b[0m\u001b[0m\n\u001b[0;32m----> 5\u001b[0;31m   \u001b[0;32mfor\u001b[0m \u001b[0mi\u001b[0m \u001b[0;32min\u001b[0m \u001b[0mrange\u001b[0m\u001b[0;34m(\u001b[0m\u001b[0mlen\u001b[0m\u001b[0;34m(\u001b[0m\u001b[0mx_in\u001b[0m\u001b[0;34m)\u001b[0m\u001b[0;34m)\u001b[0m\u001b[0;34m:\u001b[0m\u001b[0;34m\u001b[0m\u001b[0;34m\u001b[0m\u001b[0m\n\u001b[0m\u001b[1;32m      6\u001b[0m     \u001b[0mx\u001b[0m \u001b[0;34m=\u001b[0m \u001b[0mx_in\u001b[0m\u001b[0;34m[\u001b[0m\u001b[0mi\u001b[0m\u001b[0;34m]\u001b[0m\u001b[0;34m\u001b[0m\u001b[0;34m\u001b[0m\u001b[0m\n\u001b[1;32m      7\u001b[0m     \u001b[0my\u001b[0m\u001b[0;34m,\u001b[0m\u001b[0mzo\u001b[0m\u001b[0;34m,\u001b[0m\u001b[0mzi\u001b[0m \u001b[0;34m=\u001b[0m \u001b[0mforward\u001b[0m\u001b[0;34m(\u001b[0m\u001b[0mNetwork\u001b[0m\u001b[0;34m,\u001b[0m\u001b[0mbias\u001b[0m\u001b[0;34m,\u001b[0m \u001b[0mx\u001b[0m\u001b[0;34m)\u001b[0m\u001b[0;34m\u001b[0m\u001b[0;34m\u001b[0m\u001b[0m\n",
            "\u001b[0;31mNameError\u001b[0m: name 'x_in' is not defined"
          ]
        }
      ]
    },
    {
      "cell_type": "code",
      "metadata": {
        "id": "EScR2MEkmZfI",
        "colab_type": "code",
        "colab": {}
      },
      "source": [
        "def predict(Network,bias, x):\n",
        "  \n",
        "  y,zo,zi = forward(Network,bias,x)\n",
        "  y = y*(max(y_out)-min(y_out)) + min(y_out)\n",
        "  return y"
      ],
      "execution_count": 0,
      "outputs": []
    },
    {
      "cell_type": "code",
      "metadata": {
        "id": "R1SCwzkmqh2F",
        "colab_type": "code",
        "colab": {}
      },
      "source": [
        "x_test = x_inFull[24:30]\n",
        "y_test = y_outFull[24:30]"
      ],
      "execution_count": 0,
      "outputs": []
    },
    {
      "cell_type": "code",
      "metadata": {
        "id": "6xBnl2aQw1Rz",
        "colab_type": "code",
        "outputId": "1b9cbe82-de26-4b28-d45b-905db4f316e0",
        "colab": {
          "base_uri": "https://localhost:8080/",
          "height": 136
        }
      },
      "source": [
        "\n",
        "for i in range(len(x_test)):\n",
        "  prediction = predict(Network,bias,x_test[i])\n",
        "  \n",
        "  print(prediction)5"
      ],
      "execution_count": 0,
      "outputs": [
        {
          "output_type": "stream",
          "text": [
            "Expected=2.2240, Got=2.2056\n",
            "Expected=2.7144, Got=2.7562\n",
            "Expected=1.7100, Got=1.8034\n",
            "Expected=2.3513, Got=2.3337\n",
            "Expected=2.9240, Got=3.0315\n",
            "Expected=3.0000, Got=3.1352\n",
            "Accuracy = 97.30921735096796\n"
          ],
          "name": "stdout"
        }
      ]
    },
    {
      "cell_type": "code",
      "metadata": {
        "id": "ywaOkwBt-OTM",
        "colab_type": "code",
        "colab": {}
      },
      "source": [
        ""
      ],
      "execution_count": 0,
      "outputs": []
    }
  ]
}